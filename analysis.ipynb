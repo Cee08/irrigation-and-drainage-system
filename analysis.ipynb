{
 "cells": [
  {
   "cell_type": "code",
   "execution_count": 22,
   "metadata": {},
   "outputs": [],
   "source": [
    "import pandas as pd\n",
    "import numpy as np\n",
    "from sklearn.preprocessing import OneHotEncoder\n",
    "from sklearn.preprocessing import LabelEncoder\n",
    "from sklearn.compose import make_column_transformer\n",
    "from sklearn.pipeline import make_pipeline\n",
    "from sklearn.model_selection import train_test_split\n",
    "from sklearn.linear_model import LogisticRegression\n",
    "from sklearn.svm import SVC\n",
    "import matplotlib.pyplot as plt\n",
    "from sklearn.tree import DecisionTreeClassifier\n",
    "from sklearn.ensemble import RandomForestClassifier\n",
    "from sklearn.naive_bayes import GaussianNB\n",
    "from sklearn.utils import shuffle\n",
    "from keras.utils import to_categorical\n",
    "from sklearn.neighbors import KNeighborsClassifier\n",
    "from keras.models import Sequential\n",
    "from sklearn.preprocessing import scale\n",
    "import tensorflow as tf\n",
    "from keras.layers import Dense\n",
    "import pickle\n",
    "from sklearn.metrics import accuracy_score\n",
    "import random"
   ]
  },
  {
   "cell_type": "code",
   "execution_count": 38,
   "metadata": {},
   "outputs": [],
   "source": [
    "df=pd.read_csv(\"crop_data.csv\")"
   ]
  },
  {
   "cell_type": "code",
   "execution_count": 39,
   "metadata": {},
   "outputs": [
    {
     "data": {
      "text/plain": [
       "Index(['STATE', 'SOIL_TYPE', 'N_SOIL', 'P_SOIL', 'K_SOIL', 'TEMPERATURE',\n",
       "       'HUMIDITY', 'ph', 'RAINFALL', 'CROP_PRICE', 'CROP'],\n",
       "      dtype='object')"
      ]
     },
     "execution_count": 39,
     "metadata": {},
     "output_type": "execute_result"
    }
   ],
   "source": [
    "df.columns"
   ]
  },
  {
   "cell_type": "code",
   "execution_count": 41,
   "metadata": {},
   "outputs": [],
   "source": [
    "df.drop(columns=['STATE'],inplace=True)"
   ]
  },
  {
   "cell_type": "code",
   "execution_count": 42,
   "metadata": {},
   "outputs": [
    {
     "data": {
      "text/html": [
       "<div>\n",
       "<style scoped>\n",
       "    .dataframe tbody tr th:only-of-type {\n",
       "        vertical-align: middle;\n",
       "    }\n",
       "\n",
       "    .dataframe tbody tr th {\n",
       "        vertical-align: top;\n",
       "    }\n",
       "\n",
       "    .dataframe thead th {\n",
       "        text-align: right;\n",
       "    }\n",
       "</style>\n",
       "<table border=\"1\" class=\"dataframe\">\n",
       "  <thead>\n",
       "    <tr style=\"text-align: right;\">\n",
       "      <th></th>\n",
       "      <th>SOIL_TYPE</th>\n",
       "      <th>N_SOIL</th>\n",
       "      <th>P_SOIL</th>\n",
       "      <th>K_SOIL</th>\n",
       "      <th>TEMPERATURE</th>\n",
       "      <th>HUMIDITY</th>\n",
       "      <th>ph</th>\n",
       "      <th>RAINFALL</th>\n",
       "      <th>CROP_PRICE</th>\n",
       "      <th>CROP</th>\n",
       "    </tr>\n",
       "  </thead>\n",
       "  <tbody>\n",
       "    <tr>\n",
       "      <th>0</th>\n",
       "      <td>Sandy soil</td>\n",
       "      <td>90</td>\n",
       "      <td>42</td>\n",
       "      <td>43</td>\n",
       "      <td>20.879744</td>\n",
       "      <td>82.002744</td>\n",
       "      <td>6.502985</td>\n",
       "      <td>202.935536</td>\n",
       "      <td>7000</td>\n",
       "      <td>Amaranthus</td>\n",
       "    </tr>\n",
       "    <tr>\n",
       "      <th>1</th>\n",
       "      <td>Sandy soil</td>\n",
       "      <td>85</td>\n",
       "      <td>58</td>\n",
       "      <td>41</td>\n",
       "      <td>21.770462</td>\n",
       "      <td>80.319644</td>\n",
       "      <td>7.038096</td>\n",
       "      <td>226.655537</td>\n",
       "      <td>5000</td>\n",
       "      <td>Green Banana</td>\n",
       "    </tr>\n",
       "    <tr>\n",
       "      <th>2</th>\n",
       "      <td>Sandy soil</td>\n",
       "      <td>60</td>\n",
       "      <td>55</td>\n",
       "      <td>44</td>\n",
       "      <td>23.004459</td>\n",
       "      <td>82.320763</td>\n",
       "      <td>7.840207</td>\n",
       "      <td>263.964248</td>\n",
       "      <td>7000</td>\n",
       "      <td>Ladies Finger</td>\n",
       "    </tr>\n",
       "    <tr>\n",
       "      <th>3</th>\n",
       "      <td>Sandy soil</td>\n",
       "      <td>74</td>\n",
       "      <td>35</td>\n",
       "      <td>40</td>\n",
       "      <td>26.491096</td>\n",
       "      <td>80.158363</td>\n",
       "      <td>6.980401</td>\n",
       "      <td>242.864034</td>\n",
       "      <td>7000</td>\n",
       "      <td>Bitter Gourd</td>\n",
       "    </tr>\n",
       "    <tr>\n",
       "      <th>4</th>\n",
       "      <td>Sandy soil</td>\n",
       "      <td>78</td>\n",
       "      <td>42</td>\n",
       "      <td>42</td>\n",
       "      <td>20.130175</td>\n",
       "      <td>81.604873</td>\n",
       "      <td>7.628473</td>\n",
       "      <td>262.717340</td>\n",
       "      <td>120000</td>\n",
       "      <td>Black pepper</td>\n",
       "    </tr>\n",
       "  </tbody>\n",
       "</table>\n",
       "</div>"
      ],
      "text/plain": [
       "    SOIL_TYPE  N_SOIL  P_SOIL  K_SOIL  TEMPERATURE   HUMIDITY        ph  \\\n",
       "0  Sandy soil      90      42      43    20.879744  82.002744  6.502985   \n",
       "1  Sandy soil      85      58      41    21.770462  80.319644  7.038096   \n",
       "2  Sandy soil      60      55      44    23.004459  82.320763  7.840207   \n",
       "3  Sandy soil      74      35      40    26.491096  80.158363  6.980401   \n",
       "4  Sandy soil      78      42      42    20.130175  81.604873  7.628473   \n",
       "\n",
       "     RAINFALL  CROP_PRICE           CROP  \n",
       "0  202.935536        7000     Amaranthus  \n",
       "1  226.655537        5000   Green Banana  \n",
       "2  263.964248        7000  Ladies Finger  \n",
       "3  242.864034        7000   Bitter Gourd  \n",
       "4  262.717340      120000   Black pepper  "
      ]
     },
     "execution_count": 42,
     "metadata": {},
     "output_type": "execute_result"
    }
   ],
   "source": [
    "df.head()"
   ]
  },
  {
   "cell_type": "code",
   "execution_count": 43,
   "metadata": {},
   "outputs": [
    {
     "data": {
      "text/plain": [
       "SOIL_TYPE        15\n",
       "N_SOIL          137\n",
       "P_SOIL          117\n",
       "K_SOIL           73\n",
       "TEMPERATURE    2200\n",
       "HUMIDITY       2200\n",
       "ph             2200\n",
       "RAINFALL       2200\n",
       "CROP_PRICE      502\n",
       "CROP            149\n",
       "dtype: int64"
      ]
     },
     "execution_count": 43,
     "metadata": {},
     "output_type": "execute_result"
    }
   ],
   "source": [
    "df.nunique()"
   ]
  },
  {
   "cell_type": "code",
   "execution_count": 44,
   "metadata": {},
   "outputs": [
    {
     "data": {
      "text/plain": [
       "array(['Amaranthus', 'Green Banana', 'Ladies Finger', 'Bitter Gourd',\n",
       "       'Black pepper', 'Bottle Gourd', 'Brinjal', 'Cabbage', 'Carrot',\n",
       "       'Cauliflower', 'Cluster beans', 'Coconut', 'Colacasia', 'Onion',\n",
       "       'Potato', 'Tomato', 'Bengal Gram', 'Jowar', 'Paddy', 'Lentil',\n",
       "       'Rice', 'Cucumber', 'Field Pea', 'French Beans', 'Green Chilli',\n",
       "       'Knool Khol', 'Pumpkin', 'Raddish', 'Black Gram', 'Green Gram',\n",
       "       'Jute', 'Maida Atta', 'Mustard', 'Wheat Atta', 'Garlic',\n",
       "       'Masur Dal', 'Ridge Gourd', 'Arecanut', 'Red Gram', 'Maize',\n",
       "       'Dry Chillies', 'Groundnut', 'Capsicum', 'Guar', 'Lemon', 'Bajra',\n",
       "       'Castor Seed', 'Coriander', 'Cowpea', 'Drumstick', 'Elephat Yam',\n",
       "       'Ginger', 'Seam', 'Methi Leaves', 'Green Onion', 'Peas cod',\n",
       "       'Pigeon Pea', 'Sponge Gourd', 'Surat Beans', 'Sweet Potato',\n",
       "       'Tinda', 'Cluster Beans', 'Cotton', 'Wheat', 'Chholia',\n",
       "       'Little Gourd', 'Round gourd', 'Leafy Vegetable', 'Mint', 'Papaya',\n",
       "       'Spinach', 'Parval', 'Banana', 'Zizyphus', 'Grapes', 'Kinnow',\n",
       "       'Peas', 'Apple', 'Orange', 'Pomegranate', 'Sapota', 'Mushrooms',\n",
       "       'Sweet Lime', 'Pineapple', 'Guava', 'Turnip', 'Squash', 'Beans',\n",
       "       'Beetroot', 'Chilly Capsicum', 'Green Avare', 'Seemebadnekai',\n",
       "       'Snakeguard', 'Suvarna Gadde', 'Water Melon', 'Copra',\n",
       "       'Amphophalus', 'Ash Gourd', 'Coconut Oil', 'Rubber', 'Cashewnuts',\n",
       "       'Pepper garbled', 'Coconut Seed', 'Long Melon', 'Tapioca',\n",
       "       'Turmeric', 'Mango', 'Amla', 'Duster Beans', 'Soyabean', 'Linseed',\n",
       "       'Niger Seed', 'Moong Dal', 'Lime', 'Musk Melon', 'Pear', 'Rajgir',\n",
       "       'Sweet Pumpkin', 'Tender Coconut', 'Chana Dal', 'Betal Leaves',\n",
       "       'Broken Rice', 'Jaggery', 'Sugar', 'Sesamum', 'Moath Dal',\n",
       "       'Corriander seed', 'Ground Nut Seed', 'Taramira', 'Tobacco',\n",
       "       'Tamarind Fruit', 'Horse Gram', 'Ragi', 'Cumbu', 'Gingelly Oil',\n",
       "       'Varagu', 'Hybrid Cumbu', 'Karamani', 'Thinai', 'Wood', 'Barley',\n",
       "       'Fish', 'Green Peas', 'Tur Dal', 'Urd Dal', 'Mustard Oil', 'Ghee',\n",
       "       'White Pumpkin', 'Plum'], dtype=object)"
      ]
     },
     "execution_count": 44,
     "metadata": {},
     "output_type": "execute_result"
    }
   ],
   "source": [
    "df['CROP'].unique()"
   ]
  },
  {
   "cell_type": "code",
   "execution_count": 45,
   "metadata": {},
   "outputs": [
    {
     "data": {
      "text/plain": [
       "(2200, 10)"
      ]
     },
     "execution_count": 45,
     "metadata": {},
     "output_type": "execute_result"
    }
   ],
   "source": [
    "df.shape"
   ]
  },
  {
   "cell_type": "code",
   "execution_count": 46,
   "metadata": {},
   "outputs": [],
   "source": [
    "df['CROP']=df['CROP'].astype(\"category\")\n",
    "df['CROP_codes']=df['CROP'].cat.codes\n",
    "\n",
    "df['SOIL_TYPE']=df['SOIL_TYPE'].astype(\"category\")\n",
    "df['SOIL_TYPE_codes']=df['SOIL_TYPE'].cat.codes"
   ]
  },
  {
   "cell_type": "code",
   "execution_count": null,
   "metadata": {},
   "outputs": [],
   "source": [
    "df.drop(columns=['CROP','SOIL_TYPE']).corr()"
   ]
  },
  {
   "cell_type": "code",
   "execution_count": 70,
   "metadata": {},
   "outputs": [],
   "source": [
    "X=df.drop(columns=['CROP','SOIL_TYPE','CROP_codes'],axis=1)\n",
    "X=np.array(X)\n",
    "Y=np.array(df['CROP_codes'])"
   ]
  },
  {
   "cell_type": "code",
   "execution_count": 55,
   "metadata": {},
   "outputs": [
    {
     "data": {
      "text/html": [
       "<div>\n",
       "<style scoped>\n",
       "    .dataframe tbody tr th:only-of-type {\n",
       "        vertical-align: middle;\n",
       "    }\n",
       "\n",
       "    .dataframe tbody tr th {\n",
       "        vertical-align: top;\n",
       "    }\n",
       "\n",
       "    .dataframe thead th {\n",
       "        text-align: right;\n",
       "    }\n",
       "</style>\n",
       "<table border=\"1\" class=\"dataframe\">\n",
       "  <thead>\n",
       "    <tr style=\"text-align: right;\">\n",
       "      <th></th>\n",
       "      <th>N_SOIL</th>\n",
       "      <th>P_SOIL</th>\n",
       "      <th>K_SOIL</th>\n",
       "      <th>TEMPERATURE</th>\n",
       "      <th>HUMIDITY</th>\n",
       "      <th>ph</th>\n",
       "      <th>RAINFALL</th>\n",
       "      <th>CROP_PRICE</th>\n",
       "      <th>CROP_codes</th>\n",
       "      <th>SOIL_TYPE_codes</th>\n",
       "    </tr>\n",
       "  </thead>\n",
       "  <tbody>\n",
       "    <tr>\n",
       "      <th>N_SOIL</th>\n",
       "      <td>1.000000</td>\n",
       "      <td>-0.231460</td>\n",
       "      <td>-0.140512</td>\n",
       "      <td>0.026504</td>\n",
       "      <td>0.190688</td>\n",
       "      <td>0.096683</td>\n",
       "      <td>0.059020</td>\n",
       "      <td>-0.001302</td>\n",
       "      <td>0.108717</td>\n",
       "      <td>-0.217312</td>\n",
       "    </tr>\n",
       "    <tr>\n",
       "      <th>P_SOIL</th>\n",
       "      <td>-0.231460</td>\n",
       "      <td>1.000000</td>\n",
       "      <td>0.736232</td>\n",
       "      <td>-0.127541</td>\n",
       "      <td>-0.118734</td>\n",
       "      <td>-0.138019</td>\n",
       "      <td>-0.063839</td>\n",
       "      <td>-0.023683</td>\n",
       "      <td>-0.064485</td>\n",
       "      <td>0.015944</td>\n",
       "    </tr>\n",
       "    <tr>\n",
       "      <th>K_SOIL</th>\n",
       "      <td>-0.140512</td>\n",
       "      <td>0.736232</td>\n",
       "      <td>1.000000</td>\n",
       "      <td>-0.160387</td>\n",
       "      <td>0.190859</td>\n",
       "      <td>-0.169503</td>\n",
       "      <td>-0.053461</td>\n",
       "      <td>-0.021923</td>\n",
       "      <td>-0.010712</td>\n",
       "      <td>-0.256741</td>\n",
       "    </tr>\n",
       "    <tr>\n",
       "      <th>TEMPERATURE</th>\n",
       "      <td>0.026504</td>\n",
       "      <td>-0.127541</td>\n",
       "      <td>-0.160387</td>\n",
       "      <td>1.000000</td>\n",
       "      <td>0.205320</td>\n",
       "      <td>-0.017795</td>\n",
       "      <td>-0.030084</td>\n",
       "      <td>-0.029044</td>\n",
       "      <td>0.000355</td>\n",
       "      <td>-0.028574</td>\n",
       "    </tr>\n",
       "    <tr>\n",
       "      <th>HUMIDITY</th>\n",
       "      <td>0.190688</td>\n",
       "      <td>-0.118734</td>\n",
       "      <td>0.190859</td>\n",
       "      <td>0.205320</td>\n",
       "      <td>1.000000</td>\n",
       "      <td>-0.008483</td>\n",
       "      <td>0.094423</td>\n",
       "      <td>-0.041414</td>\n",
       "      <td>0.034028</td>\n",
       "      <td>-0.410890</td>\n",
       "    </tr>\n",
       "    <tr>\n",
       "      <th>ph</th>\n",
       "      <td>0.096683</td>\n",
       "      <td>-0.138019</td>\n",
       "      <td>-0.169503</td>\n",
       "      <td>-0.017795</td>\n",
       "      <td>-0.008483</td>\n",
       "      <td>1.000000</td>\n",
       "      <td>-0.109069</td>\n",
       "      <td>-0.033548</td>\n",
       "      <td>0.033992</td>\n",
       "      <td>-0.021919</td>\n",
       "    </tr>\n",
       "    <tr>\n",
       "      <th>RAINFALL</th>\n",
       "      <td>0.059020</td>\n",
       "      <td>-0.063839</td>\n",
       "      <td>-0.053461</td>\n",
       "      <td>-0.030084</td>\n",
       "      <td>0.094423</td>\n",
       "      <td>-0.109069</td>\n",
       "      <td>1.000000</td>\n",
       "      <td>0.058847</td>\n",
       "      <td>0.030660</td>\n",
       "      <td>-0.281774</td>\n",
       "    </tr>\n",
       "    <tr>\n",
       "      <th>CROP_PRICE</th>\n",
       "      <td>-0.001302</td>\n",
       "      <td>-0.023683</td>\n",
       "      <td>-0.021923</td>\n",
       "      <td>-0.029044</td>\n",
       "      <td>-0.041414</td>\n",
       "      <td>-0.033548</td>\n",
       "      <td>0.058847</td>\n",
       "      <td>1.000000</td>\n",
       "      <td>-0.118927</td>\n",
       "      <td>0.182653</td>\n",
       "    </tr>\n",
       "    <tr>\n",
       "      <th>CROP_codes</th>\n",
       "      <td>0.108717</td>\n",
       "      <td>-0.064485</td>\n",
       "      <td>-0.010712</td>\n",
       "      <td>0.000355</td>\n",
       "      <td>0.034028</td>\n",
       "      <td>0.033992</td>\n",
       "      <td>0.030660</td>\n",
       "      <td>-0.118927</td>\n",
       "      <td>1.000000</td>\n",
       "      <td>-0.162522</td>\n",
       "    </tr>\n",
       "    <tr>\n",
       "      <th>SOIL_TYPE_codes</th>\n",
       "      <td>-0.217312</td>\n",
       "      <td>0.015944</td>\n",
       "      <td>-0.256741</td>\n",
       "      <td>-0.028574</td>\n",
       "      <td>-0.410890</td>\n",
       "      <td>-0.021919</td>\n",
       "      <td>-0.281774</td>\n",
       "      <td>0.182653</td>\n",
       "      <td>-0.162522</td>\n",
       "      <td>1.000000</td>\n",
       "    </tr>\n",
       "  </tbody>\n",
       "</table>\n",
       "</div>"
      ],
      "text/plain": [
       "                   N_SOIL    P_SOIL    K_SOIL  TEMPERATURE  HUMIDITY  \\\n",
       "N_SOIL           1.000000 -0.231460 -0.140512     0.026504  0.190688   \n",
       "P_SOIL          -0.231460  1.000000  0.736232    -0.127541 -0.118734   \n",
       "K_SOIL          -0.140512  0.736232  1.000000    -0.160387  0.190859   \n",
       "TEMPERATURE      0.026504 -0.127541 -0.160387     1.000000  0.205320   \n",
       "HUMIDITY         0.190688 -0.118734  0.190859     0.205320  1.000000   \n",
       "ph               0.096683 -0.138019 -0.169503    -0.017795 -0.008483   \n",
       "RAINFALL         0.059020 -0.063839 -0.053461    -0.030084  0.094423   \n",
       "CROP_PRICE      -0.001302 -0.023683 -0.021923    -0.029044 -0.041414   \n",
       "CROP_codes       0.108717 -0.064485 -0.010712     0.000355  0.034028   \n",
       "SOIL_TYPE_codes -0.217312  0.015944 -0.256741    -0.028574 -0.410890   \n",
       "\n",
       "                       ph  RAINFALL  CROP_PRICE  CROP_codes  SOIL_TYPE_codes  \n",
       "N_SOIL           0.096683  0.059020   -0.001302    0.108717        -0.217312  \n",
       "P_SOIL          -0.138019 -0.063839   -0.023683   -0.064485         0.015944  \n",
       "K_SOIL          -0.169503 -0.053461   -0.021923   -0.010712        -0.256741  \n",
       "TEMPERATURE     -0.017795 -0.030084   -0.029044    0.000355        -0.028574  \n",
       "HUMIDITY        -0.008483  0.094423   -0.041414    0.034028        -0.410890  \n",
       "ph               1.000000 -0.109069   -0.033548    0.033992        -0.021919  \n",
       "RAINFALL        -0.109069  1.000000    0.058847    0.030660        -0.281774  \n",
       "CROP_PRICE      -0.033548  0.058847    1.000000   -0.118927         0.182653  \n",
       "CROP_codes       0.033992  0.030660   -0.118927    1.000000        -0.162522  \n",
       "SOIL_TYPE_codes -0.021919 -0.281774    0.182653   -0.162522         1.000000  "
      ]
     },
     "execution_count": 55,
     "metadata": {},
     "output_type": "execute_result"
    }
   ],
   "source": []
  },
  {
   "cell_type": "code",
   "execution_count": 71,
   "metadata": {},
   "outputs": [],
   "source": [
    "x_train,x_test, y_train, y_test = train_test_split(X,Y, test_size = 0.2, random_state = 1,shuffle=True)"
   ]
  },
  {
   "cell_type": "code",
   "execution_count": 58,
   "metadata": {},
   "outputs": [],
   "source": [
    "best_dct_model=None\n",
    "best=0"
   ]
  },
  {
   "cell_type": "markdown",
   "metadata": {},
   "source": [
    "Decision Tree Classifier"
   ]
  },
  {
   "cell_type": "code",
   "execution_count": 72,
   "metadata": {},
   "outputs": [
    {
     "data": {
      "text/plain": [
       "0.17954545454545454"
      ]
     },
     "execution_count": 72,
     "metadata": {},
     "output_type": "execute_result"
    }
   ],
   "source": [
    "for i in range (1,100):\n",
    "    dct_model=DecisionTreeClassifier(splitter='random',criterion=\"entropy\",random_state=random.randint(5,20),max_depth=random.randint(5,20))\n",
    "    dct_model.fit(x_train,y_train)\n",
    "    dct_y_pred=dct_model.predict(x_test)\n",
    "    score =accuracy_score(y_test,dct_y_pred)\n",
    "    if score>best:\n",
    "        best_dct_model=dct_model\n",
    "        best=score\n",
    "\n",
    "best"
   ]
  },
  {
   "cell_type": "code",
   "execution_count": 63,
   "metadata": {},
   "outputs": [
    {
     "name": "stdout",
     "output_type": "stream",
     "text": [
      "Best Score 0.05909090909090909 240\n"
     ]
    }
   ],
   "source": [
    "def try_rf(n):\n",
    "    random_forest_model=RandomForestClassifier(n_estimators=n,random_state=42)\n",
    "    random_forest_model.fit(x_train,y_train)\n",
    "    random_forest_y_pred=random_forest_model.predict(x_test)\n",
    "    score =accuracy_score(y_test,random_forest_y_pred)\n",
    "    return random_forest_model,random_forest_y_pred,score\n",
    "\n",
    "best_score = n = 0\n",
    "random_forest_best_model = knn_y_pred = None\n",
    "for i in range(200, 300,20):\n",
    "    random_forest_model, y_pred, score = try_rf(i)\n",
    "    if score > best_score:\n",
    "        best_score = score\n",
    "        random_forest_best_model = random_forest_model\n",
    "        random_forest_y_pred = y_pred\n",
    "        n = i\n",
    "print(\"Best Score\", best_score, n)"
   ]
  },
  {
   "cell_type": "code",
   "execution_count": 53,
   "metadata": {},
   "outputs": [
    {
     "name": "stdout",
     "output_type": "stream",
     "text": [
      "Best Score 0.17727272727272728 10\n"
     ]
    }
   ],
   "source": [
    "def try_knn(n_neighbors):\n",
    "    knn_model = KNeighborsClassifier(n_neighbors=n_neighbors,p=5,n_jobs=20,algorithm=\"kd_tree\")\n",
    "    knn_model.fit(x_train, y_train)\n",
    "    knn_y_pred = knn_model.predict(x_test)\n",
    "    score = accuracy_score(y_test, knn_y_pred)\n",
    "    return knn_model, knn_y_pred, score\n",
    "\n",
    "\n",
    "best_score = n = 0\n",
    "knn_best_model = knn_y_pred = None\n",
    "for i in range(1, 100):\n",
    "    knn_model, y_pred, score = try_knn(i)\n",
    "    if score > best_score:\n",
    "        best_score = score\n",
    "        knn_best_model = knn_model\n",
    "        knn_y_pred = y_pred\n",
    "        n = i\n",
    "print(\"Best Score\", best_score, n)"
   ]
  },
  {
   "cell_type": "code",
   "execution_count": 65,
   "metadata": {},
   "outputs": [
    {
     "data": {
      "text/plain": [
       "(2200, 5)"
      ]
     },
     "execution_count": 65,
     "metadata": {},
     "output_type": "execute_result"
    }
   ],
   "source": [
    "X.shape"
   ]
  },
  {
   "cell_type": "code",
   "execution_count": 66,
   "metadata": {},
   "outputs": [
    {
     "name": "stderr",
     "output_type": "stream",
     "text": [
      "c:\\Users\\Carron  Muleya\\AppData\\Local\\Programs\\Python\\Python311\\Lib\\site-packages\\tensorflow\\python\\util\\dispatch.py:1260: SyntaxWarning: In loss categorical_crossentropy, expected y_pred.shape to be (batch_size, num_classes) with num_classes > 1. Received: y_pred.shape=(None, 1). Consider using 'binary_crossentropy' if you only have 2 classes.\n",
      "  return dispatch_target(*args, **kwargs)\n"
     ]
    },
    {
     "name": "stdout",
     "output_type": "stream",
     "text": [
      "14/14 [==============================] - 2s 21ms/step - loss: 7.8475e-06 - accuracy: 0.0045\n",
      "\n",
      "loss: 0.000\n",
      "\n",
      "accuracy: 0.005\n"
     ]
    }
   ],
   "source": [
    "in_dim = X.shape[1]\n",
    "model = Sequential()\n",
    "model.add(Dense(64, input_dim = in_dim, activation = 'relu'))\n",
    "model.add(Dense(32, activation = 'relu'))\n",
    "model.add(Dense(32, activation = 'relu'))\n",
    "model.add(Dense(32, activation = 'relu'))\n",
    "model.add(Dense(32, activation = 'relu'))\n",
    "model.add(Dense(10, activation = 'relu'))\n",
    "model.add(Dense(1))\n",
    "\n",
    "model.compile(loss = 'categorical_crossentropy', optimizer = 'adam', metrics = ['accuracy'])\n",
    "\n",
    "model.fit(x_train, y_train, epochs = 100, batch_size = 3,verbose=False)\n",
    "scores = model.evaluate(x_test, y_test)\n",
    "\n",
    "for i, m in enumerate(model.metrics_names):\n",
    "    print(\"\\n%s: %.3f\"% (m, scores[i]))"
   ]
  }
 ],
 "metadata": {
  "kernelspec": {
   "display_name": "Python 3",
   "language": "python",
   "name": "python3"
  },
  "language_info": {
   "codemirror_mode": {
    "name": "ipython",
    "version": 3
   },
   "file_extension": ".py",
   "mimetype": "text/x-python",
   "name": "python",
   "nbconvert_exporter": "python",
   "pygments_lexer": "ipython3",
   "version": "3.11.5"
  }
 },
 "nbformat": 4,
 "nbformat_minor": 2
}
